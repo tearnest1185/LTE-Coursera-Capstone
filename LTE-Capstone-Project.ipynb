{
    "cells": [
        {
            "metadata": {
                "collapsed": true
            },
            "cell_type": "markdown",
            "source": "# LTE Data Science Capstone Project\nDevelop a machine learning model to analyze and predict car accident severity\n"
        },
        {
            "metadata": {},
            "cell_type": "code",
            "source": "import pandas as pd\nimport numpy as np\nimport seaborn as sns\nfrom sklearn import preprocessing\nfrom sklearn.model_selection import train_test_split",
            "execution_count": 3,
            "outputs": []
        },
        {
            "metadata": {
                "scrolled": false
            },
            "cell_type": "code",
            "source": "# Get Data\n!wget -O Data-Collisions.csv https://s3.us.cloud-object-storage.appdomain.cloud/cf-courses-data/CognitiveClass/DP0701EN/version-2/Data-Collisions.csv\n\ndf = pd.read_csv('Data-Collisions.csv')",
            "execution_count": 4,
            "outputs": [
                {
                    "output_type": "stream",
                    "text": "--2020-09-09 12:53:35--  https://s3.us.cloud-object-storage.appdomain.cloud/cf-courses-data/CognitiveClass/DP0701EN/version-2/Data-Collisions.csv\nResolving s3.us.cloud-object-storage.appdomain.cloud (s3.us.cloud-object-storage.appdomain.cloud)... 67.228.254.196\nConnecting to s3.us.cloud-object-storage.appdomain.cloud (s3.us.cloud-object-storage.appdomain.cloud)|67.228.254.196|:443... connected.\nHTTP request sent, awaiting response... 200 OK\nLength: 73917638 (70M) [text/csv]\nSaving to: \u2018Data-Collisions.csv\u2019\n\n100%[======================================>] 73,917,638  45.0MB/s   in 1.6s   \n\n2020-09-09 12:53:37 (45.0 MB/s) - \u2018Data-Collisions.csv\u2019 saved [73917638/73917638]\n\n",
                    "name": "stdout"
                }
            ]
        },
        {
            "metadata": {
                "scrolled": true
            },
            "cell_type": "code",
            "source": "from sklearn.utils import resample\n\n# Separate majority and minority classes\ndf_maj = df[df.SEVERITYCODE == 1]\ndf_min = df[df.SEVERITYCODE == 2]\n\n# Upsample minority class\ndf_min_upsampled = resample(df_min, \n                            replace = True,     # sample with replacement\n                            n_samples = 136485)    # to match majority class\n\n# Combine majority class with upsampled minority class\ndf_upsampled = pd.concat([df_maj, df_min_upsampled])\n \n# Display new class counts\ndf_upsampled.SEVERITYCODE.value_counts()",
            "execution_count": 5,
            "outputs": [
                {
                    "output_type": "execute_result",
                    "execution_count": 5,
                    "data": {
                        "text/plain": "2    136485\n1    136485\nName: SEVERITYCODE, dtype: int64"
                    },
                    "metadata": {}
                }
            ]
        },
        {
            "metadata": {},
            "cell_type": "markdown",
            "source": "# First Category Transformation: Hot Coding (binary)"
        },
        {
            "metadata": {},
            "cell_type": "code",
            "source": "y = df_upsampled['SEVERITYCODE'].values\nfeature = df_upsampled[['WEATHER', 'ROADCOND', 'LIGHTCOND']]\n\nfeature = pd.get_dummies(feature, columns=['WEATHER', 'ROADCOND', 'LIGHTCOND']).head()\n\nX = feature\nX[0:5]",
            "execution_count": null,
            "outputs": []
        },
        {
            "metadata": {},
            "cell_type": "markdown",
            "source": "# Alternate Category Transformation: Find/Replace"
        },
        {
            "metadata": {},
            "cell_type": "code",
            "source": "feature = df_upsampled[['WEATHER', 'ROADCOND', 'LIGHTCOND']]\ny = df_upsampled['SEVERITYCODE'].values\n\n\ncleanup_nums = {'WEATHER':    {\"Clear\": 0, 'Raining': 1, 'Overcast': 2, 'Unknown': 3,\n                              'Snowing': 4, 'Other': 5, 'Fog/Smog/Smoke': 6, 'Sleet/Hail/Freezing Rain': 7,\n                              'Blowing Sand/Dirt': 8, 'Severe Crosswind': 9, 'Partly Cloudy': 10},\n                'ROADCOND':   {\"Dry\": 0, \"Wet\": 1, \"Unknown\": 2, \"Ice\": 3,\n                              \"Snow/Slush\": 4, \"Other\": 5, \"Standing Water\": 6,\n                              'Sand/Mud/Dirt': 7, 'Oil': 8},\n               'LIGHTCOND': {'Daylight': 0, 'Dark - Street Lights On': 1, 'Unknown': 2, 'Dusk': 3, \n                            'Dawn': 4, 'Dark - No Street Lights': 5, 'Dark - Street Lights Off': 6,\n                            'Other': 7, 'Dark - Unknown Lighting':8}}\n\nfeature.replace(cleanup_nums, inplace=True)\n\nX = feature",
            "execution_count": 6,
            "outputs": [
                {
                    "output_type": "stream",
                    "text": "/opt/conda/envs/Python36/lib/python3.6/site-packages/pandas/core/generic.py:6517: SettingWithCopyWarning: \nA value is trying to be set on a copy of a slice from a DataFrame.\nTry using .loc[row_indexer,col_indexer] = value instead\n\nSee the caveats in the documentation: http://pandas.pydata.org/pandas-docs/stable/indexing.html#indexing-view-versus-copy\n  regex=regex)\n",
                    "name": "stderr"
                }
            ]
        },
        {
            "metadata": {},
            "cell_type": "code",
            "source": "X = preprocessing.StandardScaler().fit(X).transform(X)\nX[0:5]",
            "execution_count": 7,
            "outputs": [
                {
                    "output_type": "execute_result",
                    "execution_count": 7,
                    "data": {
                        "text/plain": "array([[ 0.26195087,  0.79309055,  0.39297418],\n       [ 1.20296861, -0.5896768 , -0.57005156],\n       [-0.67906687, -0.5896768 , -0.57005156],\n       [-0.67906687, -0.5896768 , -0.57005156],\n       [ 0.26195087,  0.79309055, -0.57005156]])"
                    },
                    "metadata": {}
                }
            ]
        },
        {
            "metadata": {},
            "cell_type": "code",
            "source": "X_train, X_test, y_train, y_test = train_test_split(X, y, test_size = 0.3, random_state = 4)\nprint ('Train set:', X_train.shape,  y_train.shape)\nprint ('Test set:', X_test.shape,  y_test.shape)",
            "execution_count": 8,
            "outputs": [
                {
                    "output_type": "stream",
                    "text": "Train set: (191079, 3) (191079,)\nTest set: (81891, 3) (81891,)\n",
                    "name": "stdout"
                }
            ]
        },
        {
            "metadata": {},
            "cell_type": "markdown",
            "source": "# K Nearest Neighbor"
        },
        {
            "metadata": {},
            "cell_type": "code",
            "source": "from sklearn.neighbors import KNeighborsClassifier\nfrom sklearn import metrics\n\nn = 10\n#Ks = 10\n#mean_acc = np.zeros((Ks-1))\n#for n in range(1,Ks):\n    \n    #Train Model and Predict  \nneigh = KNeighborsClassifier(n_neighbors = n).fit(X_train, y_train)\n#    yhat = neigh.predict(X_test)\n#    mean_acc[n-1] = metrics.accuracy_score(y_test, yhat)\n\n#print(\"The best accuracy was with\", mean_acc.max(), \"with k=\", mean_acc.argmax()+1) \n\n#neigh = KNeighborsClassifier(n_neighbors = 7).fit(X_train,y_train)\n#neigh",
            "execution_count": 9,
            "outputs": [
                {
                    "output_type": "error",
                    "ename": "ValueError",
                    "evalue": "Input contains NaN, infinity or a value too large for dtype('float64').",
                    "traceback": [
                        "\u001b[0;31m---------------------------------------------------------------------------\u001b[0m",
                        "\u001b[0;31mValueError\u001b[0m                                Traceback (most recent call last)",
                        "\u001b[0;32m<ipython-input-9-42ac5b9a9388>\u001b[0m in \u001b[0;36m<module>\u001b[0;34m\u001b[0m\n\u001b[1;32m      8\u001b[0m \u001b[0;34m\u001b[0m\u001b[0m\n\u001b[1;32m      9\u001b[0m     \u001b[0;31m#Train Model and Predict\u001b[0m\u001b[0;34m\u001b[0m\u001b[0;34m\u001b[0m\u001b[0;34m\u001b[0m\u001b[0m\n\u001b[0;32m---> 10\u001b[0;31m \u001b[0mneigh\u001b[0m \u001b[0;34m=\u001b[0m \u001b[0mKNeighborsClassifier\u001b[0m\u001b[0;34m(\u001b[0m\u001b[0mn_neighbors\u001b[0m \u001b[0;34m=\u001b[0m \u001b[0mn\u001b[0m\u001b[0;34m)\u001b[0m\u001b[0;34m.\u001b[0m\u001b[0mfit\u001b[0m\u001b[0;34m(\u001b[0m\u001b[0mX_train\u001b[0m\u001b[0;34m,\u001b[0m \u001b[0my_train\u001b[0m\u001b[0;34m)\u001b[0m\u001b[0;34m\u001b[0m\u001b[0;34m\u001b[0m\u001b[0m\n\u001b[0m\u001b[1;32m     11\u001b[0m \u001b[0;31m#    yhat = neigh.predict(X_test)\u001b[0m\u001b[0;34m\u001b[0m\u001b[0;34m\u001b[0m\u001b[0;34m\u001b[0m\u001b[0m\n\u001b[1;32m     12\u001b[0m \u001b[0;31m#    mean_acc[n-1] = metrics.accuracy_score(y_test, yhat)\u001b[0m\u001b[0;34m\u001b[0m\u001b[0;34m\u001b[0m\u001b[0;34m\u001b[0m\u001b[0m\n",
                        "\u001b[0;32m/opt/conda/envs/Python36/lib/python3.6/site-packages/sklearn/neighbors/base.py\u001b[0m in \u001b[0;36mfit\u001b[0;34m(self, X, y)\u001b[0m\n\u001b[1;32m    889\u001b[0m         \"\"\"\n\u001b[1;32m    890\u001b[0m         \u001b[0;32mif\u001b[0m \u001b[0;32mnot\u001b[0m \u001b[0misinstance\u001b[0m\u001b[0;34m(\u001b[0m\u001b[0mX\u001b[0m\u001b[0;34m,\u001b[0m \u001b[0;34m(\u001b[0m\u001b[0mKDTree\u001b[0m\u001b[0;34m,\u001b[0m \u001b[0mBallTree\u001b[0m\u001b[0;34m)\u001b[0m\u001b[0;34m)\u001b[0m\u001b[0;34m:\u001b[0m\u001b[0;34m\u001b[0m\u001b[0;34m\u001b[0m\u001b[0m\n\u001b[0;32m--> 891\u001b[0;31m             \u001b[0mX\u001b[0m\u001b[0;34m,\u001b[0m \u001b[0my\u001b[0m \u001b[0;34m=\u001b[0m \u001b[0mcheck_X_y\u001b[0m\u001b[0;34m(\u001b[0m\u001b[0mX\u001b[0m\u001b[0;34m,\u001b[0m \u001b[0my\u001b[0m\u001b[0;34m,\u001b[0m \u001b[0;34m\"csr\"\u001b[0m\u001b[0;34m,\u001b[0m \u001b[0mmulti_output\u001b[0m\u001b[0;34m=\u001b[0m\u001b[0;32mTrue\u001b[0m\u001b[0;34m)\u001b[0m\u001b[0;34m\u001b[0m\u001b[0;34m\u001b[0m\u001b[0m\n\u001b[0m\u001b[1;32m    892\u001b[0m \u001b[0;34m\u001b[0m\u001b[0m\n\u001b[1;32m    893\u001b[0m         \u001b[0;32mif\u001b[0m \u001b[0my\u001b[0m\u001b[0;34m.\u001b[0m\u001b[0mndim\u001b[0m \u001b[0;34m==\u001b[0m \u001b[0;36m1\u001b[0m \u001b[0;32mor\u001b[0m \u001b[0my\u001b[0m\u001b[0;34m.\u001b[0m\u001b[0mndim\u001b[0m \u001b[0;34m==\u001b[0m \u001b[0;36m2\u001b[0m \u001b[0;32mand\u001b[0m \u001b[0my\u001b[0m\u001b[0;34m.\u001b[0m\u001b[0mshape\u001b[0m\u001b[0;34m[\u001b[0m\u001b[0;36m1\u001b[0m\u001b[0;34m]\u001b[0m \u001b[0;34m==\u001b[0m \u001b[0;36m1\u001b[0m\u001b[0;34m:\u001b[0m\u001b[0;34m\u001b[0m\u001b[0;34m\u001b[0m\u001b[0m\n",
                        "\u001b[0;32m/opt/conda/envs/Python36/lib/python3.6/site-packages/sklearn/utils/validation.py\u001b[0m in \u001b[0;36mcheck_X_y\u001b[0;34m(X, y, accept_sparse, accept_large_sparse, dtype, order, copy, force_all_finite, ensure_2d, allow_nd, multi_output, ensure_min_samples, ensure_min_features, y_numeric, warn_on_dtype, estimator)\u001b[0m\n\u001b[1;32m    754\u001b[0m                     \u001b[0mensure_min_features\u001b[0m\u001b[0;34m=\u001b[0m\u001b[0mensure_min_features\u001b[0m\u001b[0;34m,\u001b[0m\u001b[0;34m\u001b[0m\u001b[0;34m\u001b[0m\u001b[0m\n\u001b[1;32m    755\u001b[0m                     \u001b[0mwarn_on_dtype\u001b[0m\u001b[0;34m=\u001b[0m\u001b[0mwarn_on_dtype\u001b[0m\u001b[0;34m,\u001b[0m\u001b[0;34m\u001b[0m\u001b[0;34m\u001b[0m\u001b[0m\n\u001b[0;32m--> 756\u001b[0;31m                     estimator=estimator)\n\u001b[0m\u001b[1;32m    757\u001b[0m     \u001b[0;32mif\u001b[0m \u001b[0mmulti_output\u001b[0m\u001b[0;34m:\u001b[0m\u001b[0;34m\u001b[0m\u001b[0;34m\u001b[0m\u001b[0m\n\u001b[1;32m    758\u001b[0m         y = check_array(y, 'csr', force_all_finite=True, ensure_2d=False,\n",
                        "\u001b[0;32m/opt/conda/envs/Python36/lib/python3.6/site-packages/sklearn/utils/validation.py\u001b[0m in \u001b[0;36mcheck_array\u001b[0;34m(array, accept_sparse, accept_large_sparse, dtype, order, copy, force_all_finite, ensure_2d, allow_nd, ensure_min_samples, ensure_min_features, warn_on_dtype, estimator)\u001b[0m\n\u001b[1;32m    571\u001b[0m         \u001b[0;32mif\u001b[0m \u001b[0mforce_all_finite\u001b[0m\u001b[0;34m:\u001b[0m\u001b[0;34m\u001b[0m\u001b[0;34m\u001b[0m\u001b[0m\n\u001b[1;32m    572\u001b[0m             _assert_all_finite(array,\n\u001b[0;32m--> 573\u001b[0;31m                                allow_nan=force_all_finite == 'allow-nan')\n\u001b[0m\u001b[1;32m    574\u001b[0m \u001b[0;34m\u001b[0m\u001b[0m\n\u001b[1;32m    575\u001b[0m     \u001b[0mshape_repr\u001b[0m \u001b[0;34m=\u001b[0m \u001b[0m_shape_repr\u001b[0m\u001b[0;34m(\u001b[0m\u001b[0marray\u001b[0m\u001b[0;34m.\u001b[0m\u001b[0mshape\u001b[0m\u001b[0;34m)\u001b[0m\u001b[0;34m\u001b[0m\u001b[0;34m\u001b[0m\u001b[0m\n",
                        "\u001b[0;32m/opt/conda/envs/Python36/lib/python3.6/site-packages/sklearn/utils/validation.py\u001b[0m in \u001b[0;36m_assert_all_finite\u001b[0;34m(X, allow_nan)\u001b[0m\n\u001b[1;32m     54\u001b[0m                 not allow_nan and not np.isfinite(X).all()):\n\u001b[1;32m     55\u001b[0m             \u001b[0mtype_err\u001b[0m \u001b[0;34m=\u001b[0m \u001b[0;34m'infinity'\u001b[0m \u001b[0;32mif\u001b[0m \u001b[0mallow_nan\u001b[0m \u001b[0;32melse\u001b[0m \u001b[0;34m'NaN, infinity'\u001b[0m\u001b[0;34m\u001b[0m\u001b[0;34m\u001b[0m\u001b[0m\n\u001b[0;32m---> 56\u001b[0;31m             \u001b[0;32mraise\u001b[0m \u001b[0mValueError\u001b[0m\u001b[0;34m(\u001b[0m\u001b[0mmsg_err\u001b[0m\u001b[0;34m.\u001b[0m\u001b[0mformat\u001b[0m\u001b[0;34m(\u001b[0m\u001b[0mtype_err\u001b[0m\u001b[0;34m,\u001b[0m \u001b[0mX\u001b[0m\u001b[0;34m.\u001b[0m\u001b[0mdtype\u001b[0m\u001b[0;34m)\u001b[0m\u001b[0;34m)\u001b[0m\u001b[0;34m\u001b[0m\u001b[0;34m\u001b[0m\u001b[0m\n\u001b[0m\u001b[1;32m     57\u001b[0m \u001b[0;34m\u001b[0m\u001b[0m\n\u001b[1;32m     58\u001b[0m \u001b[0;34m\u001b[0m\u001b[0m\n",
                        "\u001b[0;31mValueError\u001b[0m: Input contains NaN, infinity or a value too large for dtype('float64')."
                    ]
                }
            ]
        },
        {
            "metadata": {},
            "cell_type": "code",
            "source": "from sklearn.tree import DecisionTreeClassifier\n\ndebtTree = DecisionTreeClassifier(criterion=\"entropy\", max_depth = 4)\ndebtTree.fit(X_train,y_train)\nyhatTree = debtTree.predict(X_test)\n\nprint(\"DecisionTrees's Accuracy: \", metrics.accuracy_score(y_test, yhatTree))",
            "execution_count": null,
            "outputs": []
        },
        {
            "metadata": {},
            "cell_type": "code",
            "source": "df.SEVERITYCODE.value_counts()\n#df.ROADCOND.value_counts()\n#df.LIGHTCOND.value_counts()",
            "execution_count": null,
            "outputs": []
        },
        {
            "metadata": {},
            "cell_type": "code",
            "source": "",
            "execution_count": null,
            "outputs": []
        },
        {
            "metadata": {},
            "cell_type": "code",
            "source": "from sklearn.utils import resample\n\n# Separate majority and minority classes\ndf_maj = df[df.SEVERITYCODE == 1]\ndf_min = df[df.SEVERITYCODE == 2]\n\n# Upsample minority class\ndf_maj_dnsampled = resample(df_maj, \n                            replace = False,     # sample with replacement\n                            n_samples = 58188)    # to match majority class\n\n# Combine majority class with upsampled minority class\ndf_dnsampled = pd.concat([df_min, df_maj_dnsampled])\n \n# Display new class counts\ndf_dnsampled.SEVERITYCODE.value_counts()",
            "execution_count": null,
            "outputs": []
        },
        {
            "metadata": {},
            "cell_type": "code",
            "source": "",
            "execution_count": null,
            "outputs": []
        },
        {
            "metadata": {},
            "cell_type": "code",
            "source": "feature = df_dnsampled[['WEATHER', 'ROADCOND', 'LIGHTCOND']]\ny = df_dnsampled['SEVERITYCODE'].values\n\n\ncleanup_nums = {'WEATHER':    {\"Clear\": 0, 'Raining': 1, 'Overcast': 2, 'Unknown': 3,\n                              'Snowing': 4, 'Other': 5, 'Fog/Smog/Smoke': 6, 'Sleet/Hail/Freezing Rain': 7,\n                              'Blowing Sand/Dirt': 8, 'Severe Crosswind': 9, 'Partly Cloudy': 10},\n                'ROADCOND':   {\"Dry\": 0, \"Wet\": 1, \"Unknown\": 2, \"Ice\": 3,\n                              \"Snow/Slush\": 4, \"Other\": 5, \"Standing Water\": 6,\n                              'Sand/Mud/Dirt': 7, 'Oil': 8},\n               'LIGHTCOND': {'Daylight': 0, 'Dark - Street Lights On': 1, 'Unknown': 2, 'Dusk': 3, \n                            'Dawn': 4, 'Dark - No Street Lights': 5, 'Dark - Street Lights Off': 6,\n                            'Other': 7, 'Dark - Unknown Lighting':8}}\n\nfeature.replace(cleanup_nums, inplace=True)\n\nX = feature",
            "execution_count": null,
            "outputs": []
        },
        {
            "metadata": {},
            "cell_type": "code",
            "source": "",
            "execution_count": null,
            "outputs": []
        },
        {
            "metadata": {},
            "cell_type": "code",
            "source": "X = np.asarray(X[['WEATHER', 'ROADCOND', 'LIGHTCOND']])\nX[0:5]\n",
            "execution_count": null,
            "outputs": []
        }
    ],
    "metadata": {
        "kernelspec": {
            "name": "python3",
            "display_name": "Python 3.6",
            "language": "python"
        },
        "language_info": {
            "name": "python",
            "version": "3.6.9",
            "mimetype": "text/x-python",
            "codemirror_mode": {
                "name": "ipython",
                "version": 3
            },
            "pygments_lexer": "ipython3",
            "nbconvert_exporter": "python",
            "file_extension": ".py"
        }
    },
    "nbformat": 4,
    "nbformat_minor": 1
}